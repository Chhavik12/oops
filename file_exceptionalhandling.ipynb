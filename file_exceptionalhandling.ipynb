{
 "cells": [
  {
   "cell_type": "code",
   "execution_count": 1,
   "id": "812949eb-3cc7-4cea-80b4-fddcd3a59dd4",
   "metadata": {},
   "outputs": [],
   "source": [
    "#1.)What is the difference between interpreted and compiled languages\n",
    "#>>interpreted language is language that is compiled line by line.eg-python\n",
    "#  whereas compiled language is compiled at a go all at one time.eg-c,c++"
   ]
  },
  {
   "cell_type": "code",
   "execution_count": 2,
   "id": "ca73c35c-23b4-4625-91b1-a51beb307a03",
   "metadata": {},
   "outputs": [],
   "source": [
    "#2.)What is exception handling in Python?\n",
    "#>>process of preventing crashes by catching runtime error using(try except block).it is used to ensure code stability"
   ]
  },
  {
   "cell_type": "code",
   "execution_count": 3,
   "id": "e3591855-64c5-40a4-bb30-9c9f6eeee6c8",
   "metadata": {},
   "outputs": [],
   "source": [
    "#3.)What is the purpose of the finally block in exception handling?\n",
    "#finally block always executes after the try and except blocks.\n",
    "#It is commonly used for cleanup actions like closing files, releasing resources, or resetting variables."
   ]
  },
  {
   "cell_type": "code",
   "execution_count": 4,
   "id": "33d1b3fa-0463-4bff-afc9-05f3d0ff62cf",
   "metadata": {},
   "outputs": [],
   "source": [
    "#4.)What is logging in Python?\n",
    "#logging is used to record state and flow of your code/program.useful for debugging,understanding of your code"
   ]
  },
  {
   "cell_type": "code",
   "execution_count": 5,
   "id": "fbceef69-6006-4834-a94d-741551a8c448",
   "metadata": {},
   "outputs": [],
   "source": [
    "#5.)What is the significance of the __del__ method in Python?\n",
    "#__del__ is used for cleanup before an object is destroyed, but because of its unpredictability, use it only when necessary, and prefer context managers for resource handling."
   ]
  },
  {
   "cell_type": "code",
   "execution_count": 6,
   "id": "e84c3a29-29d2-4bf5-a3e3-161653c5cb8d",
   "metadata": {},
   "outputs": [],
   "source": [
    "#6.)What is the difference between import and from ... import in Python?\n",
    "#In Python, `import module` brings in the entire module and requires you to use the module name to access its functions (e.g., `math.sqrt()`),\n",
    "#while `from module import name` imports specific components directly, letting you use them without the module prefix (e.g., `sqrt()` instead of `math.sqrt()`)."
   ]
  },
  {
   "cell_type": "code",
   "execution_count": 7,
   "id": "036d8c40-0cc3-4509-9785-5e0fcacef26f",
   "metadata": {},
   "outputs": [],
   "source": [
    "#7.)How can you handle multiple exceptions in Python?\n",
    "#use tuple in except block\n",
    "# eg- try:\n",
    "#        #sucipous code\n",
    "#     except(error1,erro2)as e:\n",
    "#                    print(\"error is\",e)"
   ]
  },
  {
   "cell_type": "code",
   "execution_count": 8,
   "id": "a4eec73d-ad8d-4e4d-b841-e4f263e174aa",
   "metadata": {},
   "outputs": [],
   "source": [
    "#8.)What is the purpose of the with statement when handling files in Python?\n",
    "#with statment automatically handle opening and closing of file even if exception occue.ensure resource management."
   ]
  },
  {
   "cell_type": "code",
   "execution_count": 9,
   "id": "b99f496d-d861-4536-aef6-ea7ff57bb10a",
   "metadata": {},
   "outputs": [],
   "source": [
    "#9.)What is the difference between multithreading and multiprocessing?\n",
    "#multithreading:- happens on one processor,thread share same memory space&data with processor.run concurrently.GIL\n",
    "#multiprocessing:-has multiple core/processor so eacg gas its own memory space& recource which isolated other process.truely parallel.no GIL"
   ]
  },
  {
   "cell_type": "code",
   "execution_count": 10,
   "id": "d1b1fd67-1383-4617-a404-3e5df8cb1f47",
   "metadata": {},
   "outputs": [],
   "source": [
    "#10.)What are the advantages of using logging in a program?\n",
    "# it show hoe program behave over time.it support diff level of logging which help us to categorize message based on their severity.useful for understnding,monitoringand debugging"
   ]
  },
  {
   "cell_type": "code",
   "execution_count": 11,
   "id": "75191df6-3006-4fc0-9fa4-188c332a6b45",
   "metadata": {},
   "outputs": [],
   "source": [
    "#11.)What is memory management in Python?\n",
    "#Memory management in Python refers to how Python handles the allocation and deallocation of memory for objects during program execution.\n",
    "#It uses automatic memory management through a built-in garbage collector,which tracks and frees memory that is no longer in use.\n",
    "#it manages memory using private heaps and reference counting."
   ]
  },
  {
   "cell_type": "code",
   "execution_count": 12,
   "id": "184c8da1-adf0-4ab3-8379-6068acbd13e4",
   "metadata": {},
   "outputs": [],
   "source": [
    "#12.)What are the basic steps involved in exception handling in Python?\n",
    "#basic steps involved in exception handling in Python are:\n",
    "#Try Block: Place the code that might cause an exception inside a try block.\n",
    "#Except Block: Write one or more except blocks to handle specific exceptions if they occur.\n",
    "#Else Block (Optional): Runs if no exception occurs in the try block.\n",
    "#Finally Block (Optional): Contains code that runs no matter what — whether an exception occurred or not."
   ]
  },
  {
   "cell_type": "code",
   "execution_count": 13,
   "id": "fa649679-993f-4817-abbf-fd2f4e0ccb4f",
   "metadata": {},
   "outputs": [],
   "source": [
    "#13.)Why is memory management important in Python?\n",
    "#because it ensures efficient use of system memory, prevents memory leaks, and maintains program stability and performance."
   ]
  },
  {
   "cell_type": "code",
   "execution_count": 14,
   "id": "5792e441-497a-4a32-b6e0-12c4af2e8ea7",
   "metadata": {},
   "outputs": [],
   "source": [
    "#14.)What is the role of try and except in exception handling?\n",
    "#Try Block: Place the code that might cause an exception inside a try block.\n",
    "#Except Block: Write one or more except blocks to handle specific exceptions if they occur."
   ]
  },
  {
   "cell_type": "code",
   "execution_count": 15,
   "id": "ca0451c2-8347-426c-810a-c6361e34b960",
   "metadata": {},
   "outputs": [],
   "source": [
    "#15.)How does Python's garbage collection system work?\n",
    "#python uses automatic memory management through a built-in garbage collector,which tracks and frees memory that is no longer in use.\n",
    "#it manages memory using private heaps and reference counting."
   ]
  },
  {
   "cell_type": "code",
   "execution_count": 16,
   "id": "348f5a3b-5997-4f46-9092-a47fb6f34448",
   "metadata": {},
   "outputs": [],
   "source": [
    "#16.)What is the purpose of the else block in exception handling?\n",
    "#Except Block: Write one or more except blocks to handle specific exceptions if they occur."
   ]
  },
  {
   "cell_type": "code",
   "execution_count": 17,
   "id": "c4c9be89-d77e-4e38-8365-5177dafa9be8",
   "metadata": {},
   "outputs": [],
   "source": [
    "#17.)What are the common logging levels in Python?\n",
    "#DEBUG-lowest level of logging.give detail information of any variable,message,while doing debugging.\n",
    "#INFO-used to convey code is working as expected\n",
    "#WARNING-used to indicate something unexpected happened or potential issue in code\n",
    "#ERROR-serious probllem with function\n",
    "#CRITICAL-highest level of logging.terminal of code/program"
   ]
  },
  {
   "cell_type": "code",
   "execution_count": 18,
   "id": "0d92985d-0edf-45f7-bb2b-609ad156da1a",
   "metadata": {},
   "outputs": [],
   "source": [
    "#18.)What is the difference between os.fork() and multiprocessing in Python?\n",
    "#os.fork():Creates a child process by duplicating the current process.\n",
    "#           Works only on Unix/Linux systems (not Windows).\n",
    "#           Low-level and requires manual management of resources and communication.\n",
    "#multiprocessing module:Provides a high-level interface to create and manage processes.\n",
    "#                       Cross-platform (works on Windows, macOS, and Linux).\n",
    "#                       Supports easy inter-process communication, synchronization, and process pools."
   ]
  },
  {
   "cell_type": "code",
   "execution_count": 19,
   "id": "0985b2ce-e530-4744-9c5f-dc86cc1aec9d",
   "metadata": {},
   "outputs": [],
   "source": [
    "#19.)What is the importance of closing a file in Python?\n",
    "#Closing a file in Python is important because it:\n",
    "#1.Frees system resources associated with the file (like memory and file handles).\n",
    "#2.Ensures all data is written from the buffer to the file (especially in write mode).\n",
    "#3.Prevents data corruption or loss and allows other programs to access the file safely."
   ]
  },
  {
   "cell_type": "code",
   "execution_count": 20,
   "id": "4266585a-6cd7-4d06-a20b-76e57a1aa741",
   "metadata": {},
   "outputs": [],
   "source": [
    "#20.)What is the difference between file.read() and file.readline() in Python?\n",
    "#file.read() reads the entire content of the file as a single string.\n",
    "#file.readline() reads only one line from the file at a time."
   ]
  },
  {
   "cell_type": "code",
   "execution_count": 21,
   "id": "ca8b6c22-0e46-4f62-a06a-069176961e47",
   "metadata": {},
   "outputs": [],
   "source": [
    "#21.)What is the logging module in Python used for?\n",
    "#he logging module in Python is used to record messages (logs) from programs for debugging, monitoring, and tracking events during execution"
   ]
  },
  {
   "cell_type": "code",
   "execution_count": 22,
   "id": "ed90414e-f1d9-4162-8750-f6efda5a8d26",
   "metadata": {},
   "outputs": [],
   "source": [
    "#22.)What is the os module in Python used for in file handling?\n",
    "#os module in Python is used in file handling to interact with the operating system for tasks such as:\n",
    "#Creating, deleting, or renaming files and directories (os.remove(), os.rename(), os.mkdir())\n",
    "#Navigating directories (os.chdir(), os.getcwd())\n",
    "#Listing directory contents (os.listdir())\n",
    "#Checking file or directory existence and properties (os.path.exists(), os.path.isfile())\n",
    "#It allows Python programs to perform file and directory operations in a system-independent way."
   ]
  },
  {
   "cell_type": "code",
   "execution_count": 23,
   "id": "bd56c30b-3d7d-4f61-ac23-623543a5f133",
   "metadata": {},
   "outputs": [],
   "source": [
    "#23.)What are the challenges associated with memory management in Python?\n",
    "#The main challenges associated with memory management in Python include:\n",
    "#1.Memory Leaks: Caused by lingering references (like global variables or circular references) that prevent garbage collection.\n",
    "#2.Circular References: Objects referencing each other can confuse the reference counting mechanism, requiring the garbage collector to handle them.\n",
    "#3.High Memory Usage: Python’s dynamic typing and object overhead can lead to higher memory consumption compared to low-level languages.\n",
    "#4.Manual Control Limitations: Unlike C/C++, developers have limited control over memory allocation and deallocation.\n",
    "#5.Performance Impact: Frequent garbage collection cycles can affect performance in memory-intensive or real-time applications."
   ]
  },
  {
   "cell_type": "code",
   "execution_count": 24,
   "id": "48964c70-228c-41b5-8959-94470f82195c",
   "metadata": {},
   "outputs": [],
   "source": [
    "#24.)How do you raise an exception manually in Python?\n",
    "# raise ValueError(\"invalid output\")"
   ]
  },
  {
   "cell_type": "code",
   "execution_count": 25,
   "id": "135cfd8f-cbe2-40f8-96dd-21cc9251395a",
   "metadata": {},
   "outputs": [],
   "source": [
    "#25.)Why is it important to use multithreading in certain applications?\n",
    "#important for improving performance and responsiveness in I/O-bound or real-time applications by allowing multiple tasks to run concurrently. \n",
    "#It helps keep programs efficient and responsive without blocking execution."
   ]
  },
  {
   "cell_type": "code",
   "execution_count": 26,
   "id": "5a3c369d-f4e8-41ca-a605-26d2ebacae05",
   "metadata": {},
   "outputs": [],
   "source": [
    "#How can you open a file for writing in Python and write a string to it\n",
    "with open('file.txt','w') as f:\n",
    "    f.write(\"hello\")"
   ]
  },
  {
   "cell_type": "code",
   "execution_count": 29,
   "id": "620e2951-4dd7-45c0-b93e-874e699cde54",
   "metadata": {},
   "outputs": [
    {
     "name": "stdout",
     "output_type": "stream",
     "text": [
      "first line\n",
      "\n",
      "second line\n"
     ]
    }
   ],
   "source": [
    "#Write a Python program to read the contents of a file and print each line\n",
    "with open('file.txt', 'w') as f:\n",
    "    f.write(\"first line\\n\")\n",
    "    f.write(\"second line\")\n",
    "    \n",
    "with open('file.txt', 'r') as f:\n",
    "    line = f.readline()\n",
    "    while line:\n",
    "        print(line)\n",
    "        line = f.readline()"
   ]
  },
  {
   "cell_type": "code",
   "execution_count": 31,
   "id": "29fba3d6-3f69-49f0-b591-155f439f2558",
   "metadata": {},
   "outputs": [
    {
     "name": "stdout",
     "output_type": "stream",
     "text": [
      "error [Errno 2] No such file or directory: 'file1.txt'\n"
     ]
    }
   ],
   "source": [
    "#how would you handle a case where the file doesn't exist while trying to open it for reading\n",
    "try:\n",
    "    f=open('file1.txt','r')\n",
    "except Exception as e:\n",
    "    print(\"error\",e)"
   ]
  },
  {
   "cell_type": "code",
   "execution_count": 41,
   "id": "0a8773a7-7e9c-4d9d-a4b0-e06bbe29a044",
   "metadata": {},
   "outputs": [],
   "source": [
    "#Write a Python script that reads from one file and writes its content to another file\n",
    "with open ('source.txt','w') as f:\n",
    "    f.write(\"hello\")\n",
    "    f.write(\"world\")\n",
    "    f.write(\"\\nmyself chhavu\")\n",
    "with open('source.txt', 'r') as src:\n",
    "    content = src.read()\n",
    "with open('destination.txt', 'w') as dest:\n",
    "    dest.write(content)"
   ]
  },
  {
   "cell_type": "code",
   "execution_count": 34,
   "id": "fc5141b3-271c-4319-96fb-ca5f710fed9c",
   "metadata": {},
   "outputs": [
    {
     "name": "stdout",
     "output_type": "stream",
     "text": [
      "error= division by zero\n"
     ]
    }
   ],
   "source": [
    "#How would you catch and handle division by zero error in Python\n",
    "try:\n",
    "    10/0\n",
    "except ZeroDivisionError as e:\n",
    "    print(\"error=\",e)"
   ]
  },
  {
   "cell_type": "code",
   "execution_count": 39,
   "id": "839e909d-adba-46a0-b576-db0e95bc8f15",
   "metadata": {},
   "outputs": [],
   "source": [
    "#Write a Python program that logs an error message to a log file when a division by zero exception occurs\n",
    "import logging\n",
    "logging.basicConfig(filename=\"text.log\",level=logging.ERROR)\n",
    "try:\n",
    "    result = 10 / 0\n",
    "except ZeroDivisionError as e:\n",
    "    logging.error(\"Division by zero error occurred: %s\", e)"
   ]
  },
  {
   "cell_type": "code",
   "execution_count": 42,
   "id": "1e403549-d091-4a0e-9051-67551fdf2154",
   "metadata": {},
   "outputs": [],
   "source": [
    "#How do you log information at different levels (INFO, ERROR, WARNING) in Python using the logging module\n",
    "import logging\n",
    "logging.basicConfig(filename=\"text2.log\",level=logging.DEBUG,format='%(asctime)s - %(levelname)s - %(message)s')\n",
    "logging.info(\"this give information about program\")\n",
    "logging.error(\"tell about serious issue in program\")\n",
    "logging.warning(\"warn about some error in code\")"
   ]
  },
  {
   "cell_type": "code",
   "execution_count": 43,
   "id": "8293d28a-29f9-4717-9c69-de735af66f86",
   "metadata": {},
   "outputs": [
    {
     "name": "stdout",
     "output_type": "stream",
     "text": [
      "File not found error: [Errno 2] No such file or directory: 'non_existent_file.txt'\n"
     ]
    }
   ],
   "source": [
    "#Write a program to handle a file opening error using exception handling\n",
    "try:\n",
    "    with open(\"non_existent_file.txt\", \"r\") as f:\n",
    "        content = f.read()\n",
    "        print(content)\n",
    "except FileNotFoundError as e:\n",
    "    print(\"File not found error:\", e)"
   ]
  },
  {
   "cell_type": "code",
   "execution_count": 45,
   "id": "d44d7552-abd5-454b-803f-0e7561243e09",
   "metadata": {},
   "outputs": [
    {
     "data": {
      "text/plain": [
       "['first line\\n', 'second line']"
      ]
     },
     "execution_count": 45,
     "metadata": {},
     "output_type": "execute_result"
    }
   ],
   "source": [
    "#How can you read a file line by line and store its content in a list in Python\n",
    "with open('file.txt', 'r') as f:\n",
    "    lines = f.readlines()\n",
    "lines"
   ]
  },
  {
   "cell_type": "code",
   "execution_count": 46,
   "id": "7c436373-b28c-4c04-8546-03ae76f7f32a",
   "metadata": {},
   "outputs": [],
   "source": [
    "#How can you append data to an existing file in Python\n",
    "with open('file.txt','a') as f:\n",
    "    f.write(\"\\nthird line\")"
   ]
  },
  {
   "cell_type": "code",
   "execution_count": 47,
   "id": "1286b791-5e73-4ee7-bee6-b3858f2ff52e",
   "metadata": {},
   "outputs": [
    {
     "name": "stdout",
     "output_type": "stream",
     "text": [
      "KeyError occurred: 'city'\n"
     ]
    }
   ],
   "source": [
    "#Write a Python program that uses a try-except block to handle an error when attempting to access a dictionary key that doesn't exist\n",
    "my_dict = {\"name\": \"Alice\", \"age\": 25}\n",
    "try:\n",
    "    print(\"City:\", my_dict[\"city\"])\n",
    "except KeyError as e:\n",
    "    print(\"KeyError occurred:\", e)"
   ]
  },
  {
   "cell_type": "code",
   "execution_count": 49,
   "id": "e5de11e2-41be-49b2-9068-30451df947a9",
   "metadata": {},
   "outputs": [
    {
     "name": "stdout",
     "output_type": "stream",
     "text": [
      "error= division by zero\n"
     ]
    }
   ],
   "source": [
    "#Write a program that demonstrates using multiple except blocks to handle different types of exceptions\n",
    "try:\n",
    "    10/0\n",
    "except (ZeroDivisionError,KeyError) as e:\n",
    "    print(\"error=\",e)"
   ]
  },
  {
   "cell_type": "code",
   "execution_count": 50,
   "id": "04653035-9615-4642-9552-b21238641225",
   "metadata": {},
   "outputs": [
    {
     "name": "stdout",
     "output_type": "stream",
     "text": [
      "first line\n",
      "second line\n",
      "third line\n"
     ]
    }
   ],
   "source": [
    "#How would you check if a file exists before attempting to read it in Python\n",
    "import os\n",
    "if os.path.exists(\"file.txt\"):\n",
    "    with open(\"file.txt\", \"r\") as f:\n",
    "        content = f.read()\n",
    "        print(content)\n",
    "else:\n",
    "    print(\"File does not exist.\")"
   ]
  },
  {
   "cell_type": "code",
   "execution_count": 51,
   "id": "9c96aa30-34e9-46c6-bfbc-e4339df2ad7d",
   "metadata": {},
   "outputs": [],
   "source": [
    "#Write a program that uses the logging module to log both informational and error messages\n",
    "import logging\n",
    "logging.basicConfig(filename='file.log',level=logging.INFO)\n",
    "logging.info(\"information mssg\")\n",
    "logging.error(\"error mssg\")"
   ]
  },
  {
   "cell_type": "code",
   "execution_count": 53,
   "id": "d07428e5-d1e5-48bf-9a22-a24cece416a8",
   "metadata": {},
   "outputs": [
    {
     "name": "stdout",
     "output_type": "stream",
     "text": [
      "File Content: first line\n",
      "second line\n",
      "third line\n"
     ]
    }
   ],
   "source": [
    "#Write a Python program that prints the content of a file and handles the case when the file is empty\n",
    "try:\n",
    "    with open('file.txt', 'r') as f:\n",
    "        content = f.read()\n",
    "        if content:\n",
    "            print(\"File Content:\", content)\n",
    "        else:\n",
    "            print(\"The file is empty.\")\n",
    "except FileNotFoundError:\n",
    "    print(\"The file does not exist.\")"
   ]
  },
  {
   "cell_type": "code",
   "execution_count": 2,
   "id": "994a91ef-bf69-46f9-a13a-3e8bbb26cda4",
   "metadata": {},
   "outputs": [
    {
     "name": "stdout",
     "output_type": "stream",
     "text": [
      "ERROR: Could not find file C:\\Users\\Lenovo\\AppData\\Local\\Temp\\ipykernel_8060\\2869231070.py\n"
     ]
    },
    {
     "data": {
      "text/plain": [
       "[0, 1, 2, 3, 4]"
      ]
     },
     "execution_count": 2,
     "metadata": {},
     "output_type": "execute_result"
    }
   ],
   "source": [
    "#Demonstrate how to use memory profiling to check the memory usage of a small program\n",
    "from memory_profiler import profile\n",
    "@profile\n",
    "def test():\n",
    "    a=[i for i in range(5)]\n",
    "    return a\n",
    "test()"
   ]
  },
  {
   "cell_type": "code",
   "execution_count": 56,
   "id": "6e9bb5c2-fdca-43a9-9589-3d7593c9146b",
   "metadata": {},
   "outputs": [],
   "source": [
    "#Write a Python program to create and write a list of numbers to a file, one number per line\n",
    "n = [1, 2, 3, 4, 5]\n",
    "with open('num.txt', 'w') as f:\n",
    "    for num in n:\n",
    "        f.write(str(num) + '\\n')"
   ]
  },
  {
   "cell_type": "code",
   "execution_count": 1,
   "id": "4f42a97d-6d7a-4c41-895e-ca43628288c7",
   "metadata": {},
   "outputs": [],
   "source": [
    "#How would you implement a basic logging setup that logs to a file with rotation after 1MB\n",
    "import logging\n",
    "from logging.handlers import RotatingFileHandler\n",
    "handler = RotatingFileHandler(\n",
    "    'app.log',     \n",
    "    maxBytes=1*1024*1024,  \n",
    "    backupCount=3          \n",
    ")\n",
    "\n",
    "formatter = logging.Formatter('%(asctime)s - %(levelname)s - %(message)s')\n",
    "handler.setFormatter(formatter)\n",
    "\n",
    "logger = logging.getLogger()\n",
    "logger.setLevel(logging.INFO)\n",
    "logger.addHandler(handler)\n",
    "for i in range(10000):\n",
    "    logger.info(f\"This is log message number {i}\")\n"
   ]
  },
  {
   "cell_type": "code",
   "execution_count": 2,
   "id": "577c1882-a3e8-4516-870c-5f3cf935ebc4",
   "metadata": {},
   "outputs": [
    {
     "name": "stdout",
     "output_type": "stream",
     "text": [
      "error= list index out of range\n"
     ]
    }
   ],
   "source": [
    "#Write a program that handles both IndexError and KeyError using a try-except block\n",
    "l=[1,2,3,4]\n",
    "try:\n",
    "    print(l[4])\n",
    "except (IndexError,KeyError) as e:\n",
    "    print(\"error=\",e)"
   ]
  },
  {
   "cell_type": "code",
   "execution_count": 4,
   "id": "bd079834-d6ad-4985-93c8-e0e5c767d2cc",
   "metadata": {},
   "outputs": [
    {
     "name": "stdout",
     "output_type": "stream",
     "text": [
      "no. of time word present is: 3\n"
     ]
    }
   ],
   "source": [
    "#Write a Python program that reads a file and prints the number of occurrences of a specific word\n",
    "word=\"line\"\n",
    "count=0\n",
    "with open (\"file.txt\",\"r\") as f:\n",
    "    for line in f:\n",
    "        words = line.lower().split()\n",
    "        count += words.count(word.lower())\n",
    "print(\"no. of time word present is:\",count)"
   ]
  },
  {
   "cell_type": "code",
   "execution_count": 7,
   "id": "3ec22310-12f2-43f4-835b-41a2f137a473",
   "metadata": {},
   "outputs": [
    {
     "name": "stdout",
     "output_type": "stream",
     "text": [
      "first line\n",
      "second line\n",
      "third line\n"
     ]
    }
   ],
   "source": [
    "#How can you check if a file is empty before attempting to read its contents\n",
    "import os\n",
    "file_path = 'file.txt'\n",
    "if os.path.exists(file_path) and os.stat(file_path).st_size == 0: #for checking empty or not\n",
    "    print(\"The file is empty.\")\n",
    "else:\n",
    "    with open(file_path, 'r') as f:\n",
    "        content = f.read()\n",
    "        print(content)"
   ]
  },
  {
   "cell_type": "code",
   "execution_count": 8,
   "id": "8df5cc1b-83e9-40b6-9ab6-4900bc36f049",
   "metadata": {},
   "outputs": [
    {
     "name": "stdout",
     "output_type": "stream",
     "text": [
      "An error occurred. Check 'file_error.log' for details.\n"
     ]
    }
   ],
   "source": [
    "#Write a Python program that writes to a log file when an error occurs during file handling\n",
    "import logging\n",
    "import os\n",
    "logging.basicConfig(filename='file_error.log',\n",
    "                    level=logging.ERROR,\n",
    "                    format='%(asctime)s - %(levelname)s - %(message)s')\n",
    "\n",
    "file_path = 'non_existing_file.txt'\n",
    "\n",
    "try:\n",
    "    with open(file_path, 'r') as f:\n",
    "        content = f.read()\n",
    "        print(content)\n",
    "except FileNotFoundError as e:\n",
    "    logging.error(f\"File not found: {file_path} - {e}\")\n",
    "    print(\"An error occurred. Check 'file_error.log' for details.\")\n",
    "except Exception as e:\n",
    "    logging.error(f\"An unexpected error occurred: {e}\")\n",
    "    print(\"An error occurred. Check 'file_error.log' for details.\")"
   ]
  },
  {
   "cell_type": "code",
   "execution_count": null,
   "id": "781cec1c-34b6-48f3-937f-ea58eed24ed9",
   "metadata": {},
   "outputs": [],
   "source": []
  }
 ],
 "metadata": {
  "kernelspec": {
   "display_name": "Python 3 (ipykernel)",
   "language": "python",
   "name": "python3"
  },
  "language_info": {
   "codemirror_mode": {
    "name": "ipython",
    "version": 3
   },
   "file_extension": ".py",
   "mimetype": "text/x-python",
   "name": "python",
   "nbconvert_exporter": "python",
   "pygments_lexer": "ipython3",
   "version": "3.12.7"
  }
 },
 "nbformat": 4,
 "nbformat_minor": 5
}
