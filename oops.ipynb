{
 "cells": [
  {
   "cell_type": "code",
   "execution_count": 1,
   "id": "b86dcf50-1c9e-4068-b279-21e875e9c76f",
   "metadata": {},
   "outputs": [],
   "source": [
    "#1.)What is Object-Oriented Programming (OOP)?\n",
    "#Object-Oriented Programming (OOP) is a programming based on the concept of “objects”, which are instances of classes. \n",
    "#It helps in organizing code to model real-world entities using data and behavior."
   ]
  },
  {
   "cell_type": "code",
   "execution_count": 2,
   "id": "86738cbf-774d-4e29-9c5f-3f70d729e349",
   "metadata": {},
   "outputs": [],
   "source": [
    "#2.) What is a class in OOP?\n",
    "#class is blueprint of creating an object.it defines attributes and method of object"
   ]
  },
  {
   "cell_type": "code",
   "execution_count": 3,
   "id": "eb747455-77d0-4190-806c-a45e0e4d870f",
   "metadata": {},
   "outputs": [],
   "source": [
    "#3.)What is an object in OOP?\n",
    "#object is instance of class.it has the properties of the class from which it is created"
   ]
  },
  {
   "cell_type": "code",
   "execution_count": 4,
   "id": "e4782209-3d6f-424b-9426-0ee7e9513420",
   "metadata": {},
   "outputs": [],
   "source": [
    "#4.)What is the difference between abstraction and encapsulation?\n",
    "#Abstraction hides complex implementation details and shows only the essential features to the user.\n",
    "#Encapsulation wraps data and methods into a single unit and restricts direct access to internal data for security."
   ]
  },
  {
   "cell_type": "code",
   "execution_count": 5,
   "id": "2f95e67a-3b4c-46ca-b4f1-0e4da3c7857a",
   "metadata": {},
   "outputs": [],
   "source": [
    "#5.)What are dunder methods in Python?\n",
    "#dunder is made of two words d+under=double underscore method.it is defined by built-in class.used for creating custom object."
   ]
  },
  {
   "cell_type": "code",
   "execution_count": 6,
   "id": "2f2f10bf-a604-49eb-9a90-459f9e9282a7",
   "metadata": {},
   "outputs": [],
   "source": [
    "#6.)Explain the concept of inheritance in OOP\n",
    "#Inheritance in OOP allows a class to acquire the properties and methods of another class, promoting code reusability."
   ]
  },
  {
   "cell_type": "code",
   "execution_count": 7,
   "id": "337b12a5-b0c2-4d61-8342-dde32df3e1c2",
   "metadata": {},
   "outputs": [],
   "source": [
    "#7.) What is polymorphism in OOP?\n",
    "#polymorphism means object take several form depending on method/data\n",
    "#poly=many; morphism=forms/data"
   ]
  },
  {
   "cell_type": "code",
   "execution_count": 8,
   "id": "c415e8b8-a8bd-45c2-b21a-cb0450ed6574",
   "metadata": {},
   "outputs": [],
   "source": [
    "#8.) How is encapsulation achieved in Python?\n",
    "#Encapsulation in Python is achieved by:\n",
    "#Defining attributes as private or protected using a single (_var) or double underscore (__var),\n",
    "#And accessing them through public methods (getters and setters)."
   ]
  },
  {
   "cell_type": "code",
   "execution_count": 9,
   "id": "fa59f5d3-f066-4de1-afa2-08359883d3b4",
   "metadata": {},
   "outputs": [],
   "source": [
    "#9.)What is a constructor in Python?\n",
    "#(__init__) dunder method work as dunder method.it is called itself when object is created."
   ]
  },
  {
   "cell_type": "code",
   "execution_count": 10,
   "id": "41947267-3675-4333-969e-d9551b761844",
   "metadata": {},
   "outputs": [],
   "source": [
    "#10.)What are class and static methods in Python?\n",
    "#static method doesn't access class or instance data of class\n",
    "#class method access class(cls) not instance"
   ]
  },
  {
   "cell_type": "code",
   "execution_count": 11,
   "id": "3e47b44a-4f24-47eb-979c-192ab2906a3a",
   "metadata": {},
   "outputs": [],
   "source": [
    "#11.)What is method overloading in Python?\n",
    "#this mean there can be same name function but having different number of arguments"
   ]
  },
  {
   "cell_type": "code",
   "execution_count": 12,
   "id": "73f404cd-7c0c-44a2-a49b-2c508ce7136c",
   "metadata": {},
   "outputs": [],
   "source": [
    "#12.)What is method overriding in OOP?\n",
    "#this means parent class containg method can be changed by child class by containig it in itself"
   ]
  },
  {
   "cell_type": "code",
   "execution_count": 13,
   "id": "8e61e35e-4554-4c36-91fa-cb3217fdaab9",
   "metadata": {},
   "outputs": [],
   "source": [
    "#13.)What is a property decorator in Python?\n",
    "#allows method to be accessed as attributes.it is used to expose private variables"
   ]
  },
  {
   "cell_type": "code",
   "execution_count": 14,
   "id": "b7a535b6-a8e8-4710-a110-b1cb06ec950f",
   "metadata": {},
   "outputs": [],
   "source": [
    "#14.)Why is polymorphism important in OOP?\n",
    "#because it allows the same interface or method to behave differently based on the object, enhancing flexibility and code reusability."
   ]
  },
  {
   "cell_type": "code",
   "execution_count": 15,
   "id": "c8d47c7c-04fc-4f14-953a-088e06ec9808",
   "metadata": {},
   "outputs": [],
   "source": [
    "#15.)What is an abstract class in Python?\n",
    "#class that cannot be instantiated and is meant to be inherited by subclasses, which must implement its abstract methods."
   ]
  },
  {
   "cell_type": "code",
   "execution_count": 16,
   "id": "75d5bc03-22d1-4ff9-b6b0-b979def08005",
   "metadata": {},
   "outputs": [],
   "source": [
    "#16.)What are the advantages of OOP?\n",
    "#dvantages of Object-Oriented Programming (OOP):\n",
    "#1.Modularity- Code is organized into classes, making it easy to manage and understand.\n",
    "#2.Reusability-Inheritance allows code reuse across multiple classes.\n",
    "#3. Encapsulation-Protects data by restricting direct access and bundling it with related methods.\n",
    "#4.Polymorphism-Enables flexibility by allowing the same method name to behave differently based on the object.\n",
    "#5.Scalability and Maintainability-Easier to modify, update, and scale large applications."
   ]
  },
  {
   "cell_type": "code",
   "execution_count": 17,
   "id": "8e6c6bac-3474-431b-8cb1-9601115b457a",
   "metadata": {},
   "outputs": [],
   "source": [
    "#17.)What is the difference between a class variable and an instance variable?\n",
    "#A class variable is shared by all instances of a class and is defined outside the methods, usually for properties common to all objects.\n",
    "#An instance variable, on the other hand, is unique to each object and is defined inside methods like `__init__()` using `self`.\n",
    "#Changes to a class variable affect all instances, while changes to an instance variable affect only that specific object."
   ]
  },
  {
   "cell_type": "code",
   "execution_count": 18,
   "id": "ee48f01b-7eac-4e7b-8f3f-8a26bf2613d7",
   "metadata": {},
   "outputs": [],
   "source": [
    "#18.)What is multiple inheritance in Python?\n",
    "#one child class inherit properties from multiple parent class."
   ]
  },
  {
   "cell_type": "code",
   "execution_count": 19,
   "id": "fa13a4a5-9fae-4d01-bed2-f7e2a4d7765c",
   "metadata": {},
   "outputs": [],
   "source": [
    "#19.)Explain the purpose of ‘’__str__’ and ‘__repr__’ ‘ methods in Python\n",
    "#(__str__)-return string representation of method\n",
    "#(__repr__)-return ambiguous string representation of obj"
   ]
  },
  {
   "cell_type": "code",
   "execution_count": 20,
   "id": "f9778d5d-34fe-4280-a38e-85517706fb7c",
   "metadata": {},
   "outputs": [],
   "source": [
    "#20.)What is the significance of the ‘super()’ function in Python?\n",
    "#The super() function in Python is used to call methods from a parent (super) class inside a child class.\n",
    "#It is especially useful for inheriting and extending the functionality of parent class methods like __init__(), ensuring proper initialization."
   ]
  },
  {
   "cell_type": "code",
   "execution_count": 21,
   "id": "36670977-18a7-4dd1-b784-d556534fb37d",
   "metadata": {},
   "outputs": [],
   "source": [
    "#21.)What is the significance of the __del__ method in Python?\n",
    "#it is a destructor that is automatically called when an object is about to be destroyed (i.e., garbage collected).\n",
    "#It is used to perform cleanup operations, like closing files or releasing resources."
   ]
  },
  {
   "cell_type": "code",
   "execution_count": 22,
   "id": "a5953a80-40cc-49f7-8ddd-ef3d4a769d18",
   "metadata": {},
   "outputs": [],
   "source": [
    "#22.) What is the difference between @staticmethod and @classmethod in Python?\n",
    "#In Python, `@staticmethod` defines a method that doesn't access class or instance data and behaves like a regular function inside a class.\n",
    "#In contrast, `@classmethod` receives the class itself as the first argument (`cls`) and can access or modify class variables.\n",
    "#Use `@classmethod` when behavior depends on the class, and `@staticmethod` when it doesn't."
   ]
  },
  {
   "cell_type": "code",
   "execution_count": 23,
   "id": "6ecb7b8d-42ca-4880-ab44-f3f696a174b3",
   "metadata": {},
   "outputs": [],
   "source": [
    "#23.)How does polymorphism work in Python with inheritance?\n",
    "#polymorphism with inheritance allows a subclass to override a method of its superclass.\n",
    "#enabling the same method name to perform different behaviors depending on the object’s class."
   ]
  },
  {
   "cell_type": "code",
   "execution_count": 24,
   "id": "03c35c6c-b8a9-4f7c-9546-0cdc14857f3a",
   "metadata": {},
   "outputs": [],
   "source": [
    "#24.)What is method chaining in Python OOP?\n",
    "#a technique where multiple methods are called sequentially on the same object in a single line, by having each method return self."
   ]
  },
  {
   "cell_type": "code",
   "execution_count": 25,
   "id": "06e05e8d-aaa8-428d-8dcf-bf17ebd196b0",
   "metadata": {},
   "outputs": [],
   "source": [
    "#25.)What is the purpose of the __call__ method in Python?\n",
    "#The __call__ method in Python allows an object to be called like a function.\n",
    "#When defined in a class, it enables the object to execute code when followed by parentheses ()."
   ]
  },
  {
   "cell_type": "code",
   "execution_count": 29,
   "id": "9f9cc3f6-289f-4104-8d16-4cadb8f278d1",
   "metadata": {},
   "outputs": [
    {
     "data": {
      "text/plain": [
       "'bark!'"
      ]
     },
     "execution_count": 29,
     "metadata": {},
     "output_type": "execute_result"
    }
   ],
   "source": [
    "#Create a parent class Animal with a method speak() that prints a generic message. Create a child class Dog that overrides the speak() method to print \"Bark!\".\n",
    "class Animal:\n",
    "    def speak(self):\n",
    "        return(\"i m animal\")\n",
    "class Dog(Animal):\n",
    "    def speak(self):\n",
    "        return(\"bark!\")\n",
    "a=Dog()\n",
    "a.speak()"
   ]
  },
  {
   "cell_type": "code",
   "execution_count": 31,
   "id": "81284eec-8da5-4a3e-9f0a-59701b05618b",
   "metadata": {},
   "outputs": [
    {
     "name": "stdout",
     "output_type": "stream",
     "text": [
      "Area of Circle: 78.54\n",
      "Area of Rectangle: 24\n"
     ]
    }
   ],
   "source": [
    "#Write a program to create an abstract class Shape with a method area(). Derive classes Circle and Rectangle from it and implement the area() method in both.\n",
    "from abc import ABC, abstractmethod\n",
    "import math\n",
    "class Shape(ABC):\n",
    "    @abstractmethod\n",
    "    def area(self):\n",
    "        pass\n",
    "class Circle(Shape):\n",
    "    def __init__(self, radius):\n",
    "        self.radius = radius\n",
    "\n",
    "    def area(self):\n",
    "        return math.pi * self.radius ** 2\n",
    "class Rectangle(Shape):\n",
    "    def __init__(self, length, width):\n",
    "        self.length = length\n",
    "        self.width = width\n",
    "\n",
    "    def area(self):\n",
    "        return self.length * self.width\n",
    "circle = Circle(5)\n",
    "rectangle = Rectangle(4, 6)\n",
    "print(f\"Area of Circle: {circle.area():.2f}\")\n",
    "print(f\"Area of Rectangle: {rectangle.area()}\")"
   ]
  },
  {
   "cell_type": "code",
   "execution_count": 33,
   "id": "272aceba-a53f-48be-9c57-907d47d7f98c",
   "metadata": {},
   "outputs": [
    {
     "name": "stdout",
     "output_type": "stream",
     "text": [
      "battery is good\n",
      "None\n"
     ]
    }
   ],
   "source": [
    "#Implement a multi-level inheritance scenario where a class Vehicle has an attribute type. Derive a class Carand further derive a class ElectricCar that adds a battery attribute.\n",
    "class Vehicle:\n",
    "    def info(self):\n",
    "        pass\n",
    "class Car(Vehicle):\n",
    "    def car_info(self):\n",
    "        pass\n",
    "class ElectricCar(Car):\n",
    "    def show_battery(self):\n",
    "        print(\"battery is good\")\n",
    "a=ElectricCar()\n",
    "a.car_info()\n",
    "a.info()\n",
    "print(a.show_battery())\n",
    "b=Car()\n",
    "b.info()\n",
    "b.car_info()\n",
    "c=Vehicle()\n",
    "c.info()"
   ]
  },
  {
   "cell_type": "code",
   "execution_count": 35,
   "id": "6115ffb4-8c12-4cbd-b03b-dfc1da592a80",
   "metadata": {},
   "outputs": [
    {
     "name": "stdout",
     "output_type": "stream",
     "text": [
      "penguin can fly\n",
      "sparrow can also fly\n",
      "bird can fly\n"
     ]
    }
   ],
   "source": [
    "#Demonstrate polymorphism by creating a base class Bird with a method fly(). Create two derived classesSparrow and Penguin that override the fly() method\n",
    "class Bird:\n",
    "    def fly(self):\n",
    "        print(\"bird can fly\")\n",
    "class Sparrow(Bird):\n",
    "    def fly(self):\n",
    "        print(\"sparrow can also fly\")\n",
    "class Penguin(Bird):\n",
    "    def fly(self):\n",
    "        print(\"penguin can fly\")\n",
    "a=Penguin()\n",
    "a.fly()\n",
    "b=Sparrow()\n",
    "b.fly()\n",
    "c=Bird()\n",
    "c.fly()"
   ]
  },
  {
   "cell_type": "code",
   "execution_count": 37,
   "id": "47195c6b-1088-4d45-ad70-ad2d99300c38",
   "metadata": {},
   "outputs": [
    {
     "name": "stdout",
     "output_type": "stream",
     "text": [
      "Money deposited. Current balance = 1000\n",
      "Money withdrawn. Current balance = 500\n",
      "Your balance = 500\n"
     ]
    }
   ],
   "source": [
    "# Write a program to demonstrate encapsulation by creating a class BankAccount with private attributesbalance and methods to deposit, withdraw, and check balance.\n",
    "class Bankacc:\n",
    "    def __init__(self, balance=0):  \n",
    "        self.__balance = balance    \n",
    "\n",
    "    def deposit(self, money):\n",
    "        self.__balance += money\n",
    "        print(\"Money deposited. Current balance =\", self.__balance)\n",
    "\n",
    "    def withdraw(self, money):\n",
    "        if money <= self.__balance:\n",
    "            self.__balance -= money\n",
    "            print(\"Money withdrawn. Current balance =\", self.__balance)\n",
    "        else:\n",
    "            print(\"Insufficient balance!\")\n",
    "\n",
    "    def checkBalance(self):\n",
    "        print(\"Your balance =\", self.__balance)\n",
    "a = Bankacc()\n",
    "a.deposit(1000)\n",
    "a.withdraw(500)\n",
    "a.checkBalance()"
   ]
  },
  {
   "cell_type": "code",
   "execution_count": 38,
   "id": "1aee1d26-b237-4606-a79a-ca395359c3bb",
   "metadata": {},
   "outputs": [
    {
     "name": "stdout",
     "output_type": "stream",
     "text": [
      "play piano\n",
      "play guitar\n",
      "play instument\n"
     ]
    }
   ],
   "source": [
    "#Demonstrate runtime polymorphism using a method play() in a base class Instrument. Derive classes Guitarand Piano that implement their own version of play().\n",
    "class Instrument:\n",
    "    def play(self):\n",
    "        print(\"play instument\")\n",
    "class Guitar(Instrument):\n",
    "    def play(self):\n",
    "        print(\"play guitar\")\n",
    "class Piano(Instrument):\n",
    "    def play(self):\n",
    "        print(\"play piano\")\n",
    "a=Piano()\n",
    "a.play()\n",
    "b=Guitar()\n",
    "b.play()\n",
    "c=Instrument()\n",
    "c.play()"
   ]
  },
  {
   "cell_type": "code",
   "execution_count": 41,
   "id": "e715b562-fc73-4a75-90b1-35031e1b0ff7",
   "metadata": {},
   "outputs": [
    {
     "name": "stdout",
     "output_type": "stream",
     "text": [
      "Addition: 15\n",
      "Subtraction: 5\n"
     ]
    }
   ],
   "source": [
    "#Create a class MathOperations with a class method add_numbers() to add two numbers and a static method subtract_numbers() to subtract two numbers.\n",
    "class MathOperations:\n",
    "    \n",
    "    @classmethod\n",
    "    def add_numbers(cls, a, b):\n",
    "        return a + b\n",
    "\n",
    "    @staticmethod\n",
    "    def subtract_numbers(a, b):\n",
    "        return a - b\n",
    "print(\"Addition:\", MathOperations.add_numbers(10, 5))\n",
    "print(\"Subtraction:\", MathOperations.subtract_numbers(10, 5))"
   ]
  },
  {
   "cell_type": "code",
   "execution_count": 42,
   "id": "faad563a-4269-4a5c-90be-be4032da887a",
   "metadata": {},
   "outputs": [
    {
     "name": "stdout",
     "output_type": "stream",
     "text": [
      "Total persons created: 3\n"
     ]
    }
   ],
   "source": [
    "# Implement a class Person with a class method to count the total number of persons created.\n",
    "class Person:\n",
    "    count = 0  \n",
    "    def __init__(self, name):\n",
    "        self.name = name\n",
    "        Person.count += 1 \n",
    "\n",
    "    @classmethod\n",
    "    def get_person_count(cls):\n",
    "        return cls.count\n",
    "\n",
    "p1 = Person(\"Alice\")\n",
    "p2 = Person(\"Bob\")\n",
    "p3 = Person(\"Charlie\")\n",
    "print(\"Total persons created:\", Person.get_person_count())\n"
   ]
  },
  {
   "cell_type": "code",
   "execution_count": 44,
   "id": "42fa8444-c3da-4008-9af9-f25a1228cde8",
   "metadata": {},
   "outputs": [
    {
     "name": "stdout",
     "output_type": "stream",
     "text": [
      "3/4\n"
     ]
    }
   ],
   "source": [
    "#Write a class Fraction with attributes numerator and denominator. Override the str method to display the fraction as \"numerator/denominator\".\n",
    "class Fraction:\n",
    "    def __init__(self,num,den):\n",
    "        self.num=num\n",
    "        self.den=den\n",
    "    def __str__(self):\n",
    "         return f\"{self.num}/{self.den}\"\n",
    "f1 = Fraction(3, 4)\n",
    "print(f1)  "
   ]
  },
  {
   "cell_type": "code",
   "execution_count": 45,
   "id": "98011953-ce95-419e-b772-80ef7a90d9c9",
   "metadata": {},
   "outputs": [
    {
     "name": "stdout",
     "output_type": "stream",
     "text": [
      "v1: (2, 3)\n",
      "v2: (4, 5)\n",
      "v1 + v2 = (6, 8)\n"
     ]
    }
   ],
   "source": [
    "#Demonstrate operator overloading by creating a class Vector and overriding the add method to add two vectors.\n",
    "class Vector:\n",
    "    def __init__(self, x, y):\n",
    "        self.x = x\n",
    "        self.y = y\n",
    "\n",
    "    def __add__(self, other):\n",
    "        return Vector(self.x + other.x, self.y + other.y)\n",
    "\n",
    "    def __str__(self):\n",
    "        return f\"({self.x}, {self.y})\"\n",
    "\n",
    "v1 = Vector(2, 3)\n",
    "v2 = Vector(4, 5)\n",
    "v3 = v1 + v2  \n",
    "\n",
    "print(\"v1:\", v1)\n",
    "print(\"v2:\", v2)\n",
    "print(\"v1 + v2 =\", v3)\n"
   ]
  },
  {
   "cell_type": "code",
   "execution_count": 48,
   "id": "404e69b5-6c2f-4a8b-bb39-c50c39dd8029",
   "metadata": {},
   "outputs": [
    {
     "name": "stdout",
     "output_type": "stream",
     "text": [
      "Hello, my name is alice and I am 40 years old.\n"
     ]
    }
   ],
   "source": [
    "#Create a class Person with attributes name and age. Add a method greet() that prints \"Hello, my name is{name} and I am {age} years old.\"\n",
    "class Person:\n",
    "    def __init__(self,name,age):\n",
    "        self.name=name\n",
    "        self.age=age\n",
    "    def greet(self):\n",
    "        print(f\"Hello, my name is {self.name} and I am {self.age} years old.\")\n",
    "a=Person(\"alice\",40)\n",
    "a.greet()"
   ]
  },
  {
   "cell_type": "code",
   "execution_count": 53,
   "id": "ce2131f8-f705-49a7-b147-6f3e3a00f1e0",
   "metadata": {},
   "outputs": [
    {
     "name": "stdout",
     "output_type": "stream",
     "text": [
      "grade is= a\n"
     ]
    }
   ],
   "source": [
    "#mplement a class Student with attributes name and grades. Create a method average_grade() to compute the average of the grades.\n",
    "class Student:\n",
    "    def __init__(self,name,mark1,mark2,mark3):\n",
    "        self.name=name\n",
    "        self.mark1=mark1\n",
    "        self.mark2=mark2\n",
    "        self.mark3=mark3\n",
    "    def avg_grade(self):\n",
    "        avg=(self.mark1+self.mark2+self.mark3)/3\n",
    "        if avg>80:\n",
    "            return \"a\"\n",
    "        elif avg<=80 and avg>70:\n",
    "            return \"b\"\n",
    "        else:\n",
    "            return \"c\"\n",
    "a=Student('michael',90,90,80)\n",
    "print(\"grade is=\",a.avg_grade())"
   ]
  },
  {
   "cell_type": "code",
   "execution_count": 55,
   "id": "fc1c4d44-8297-490d-a71d-e44dbea61301",
   "metadata": {},
   "outputs": [
    {
     "name": "stdout",
     "output_type": "stream",
     "text": [
      "length=5 breadth=4\n"
     ]
    },
    {
     "data": {
      "text/plain": [
       "20"
      ]
     },
     "execution_count": 55,
     "metadata": {},
     "output_type": "execute_result"
    }
   ],
   "source": [
    "#Create a class Rectangle with methods set_dimensions() to set the dimensions and area() to calculate the area.\n",
    "class Rectangle:\n",
    "    def __init__(self,l,b):\n",
    "        self.l=l\n",
    "        self.b=b\n",
    "    def set_dimensions(self):\n",
    "        print(f\"length={self.l} breadth={self.b}\")\n",
    "    def area(self):\n",
    "        return self.l*self.b\n",
    "a=Rectangle(5,4)\n",
    "a.set_dimensions()\n",
    "a.area()"
   ]
  },
  {
   "cell_type": "code",
   "execution_count": 58,
   "id": "140afacc-c272-45a5-9992-dab1f0e0181c",
   "metadata": {},
   "outputs": [
    {
     "name": "stdout",
     "output_type": "stream",
     "text": [
      "Base Salary = 2000\n",
      "Salary after Bonus = 3000\n"
     ]
    }
   ],
   "source": [
    "# Create a class Employee with a method calculate_salary() that computes the salary based on hours worked \n",
    "#and hourly rate. Create a derived class Manager that adds a bonus to the salary\n",
    "class Employee:\n",
    "    def __init__(self, hours, hourly_rate=100):\n",
    "        self.hours = hours\n",
    "        self.hourly_rate = hourly_rate\n",
    "        self.salary = 0\n",
    "\n",
    "    def calculate_salary(self):\n",
    "        self.salary = self.hours * self.hourly_rate\n",
    "        print(\"Base Salary =\", self.salary)\n",
    "\n",
    "class Manager(Employee):\n",
    "    def bonus(self):\n",
    "        total_salary = self.salary + 1000  # Add bonus\n",
    "        print(\"Salary after Bonus =\", total_salary)\n",
    "a = Manager(20)\n",
    "a.calculate_salary()\n",
    "a.bonus()"
   ]
  },
  {
   "cell_type": "code",
   "execution_count": 59,
   "id": "cc8a0e86-57c7-4ac5-81f3-e3d18e94d015",
   "metadata": {},
   "outputs": [
    {
     "name": "stdout",
     "output_type": "stream",
     "text": [
      "bill of alice is 60\n"
     ]
    }
   ],
   "source": [
    "# Create a class Product with attributes name, price, and quantity. Implement a method total_price() that clcalculates the total price of the product.\n",
    "class Product:\n",
    "    def __init__(self,name,price,quantity):\n",
    "        self.name=name\n",
    "        self.price=price\n",
    "        self.quantity=quantity\n",
    "    def total_price(self):\n",
    "        bill=self.price*self.quantity\n",
    "        print(f\"bill of {self.name} is\",bill)\n",
    "a=Product('alice',20,3)\n",
    "a.total_price()"
   ]
  },
  {
   "cell_type": "code",
   "execution_count": 60,
   "id": "42a19a3f-7423-4913-8de5-8ebf4cc9fa25",
   "metadata": {},
   "outputs": [
    {
     "name": "stdout",
     "output_type": "stream",
     "text": [
      "animal make sound\n",
      "mo mo!\n",
      "ma ma!\n"
     ]
    }
   ],
   "source": [
    "#Create a class Animal with an abstract method sound(). Create two derived classes Cow and Sheep that implement the sound() method.\n",
    "import abc \n",
    "class Animal:\n",
    "    @abc.abstractmethod\n",
    "    def sound(self):\n",
    "        print(\"animal make sound\")\n",
    "class Cow(Animal):\n",
    "    def sound(self):\n",
    "        print(\"mo mo!\")\n",
    "class Sheep(Animal):\n",
    "    def sound(self):\n",
    "        print(\"ma ma!\")\n",
    "a=Animal()\n",
    "a.sound()\n",
    "b=Cow()\n",
    "b.sound()\n",
    "c=Sheep()\n",
    "c.sound()"
   ]
  },
  {
   "cell_type": "code",
   "execution_count": 62,
   "id": "e1fb85c5-9684-4e03-9175-26d179b6dddb",
   "metadata": {},
   "outputs": [
    {
     "name": "stdout",
     "output_type": "stream",
     "text": [
      "book with title 'abc' by author shakespare in year 1534\n"
     ]
    }
   ],
   "source": [
    "#. Create a class Book with attributes title, author, and year_published. Add a method get_book_info() that\n",
    "#returns a formatted string with the book's details.\n",
    "class Book:\n",
    "    def __init__(self,title,author,year):\n",
    "        self.title=title\n",
    "        self.author=author\n",
    "        self.year=year\n",
    "    def get_book_info(self):\n",
    "        print(f\"book with title '{self.title}' by author {self.author} in year {self.year}\")\n",
    "a=Book('abc','shakespare',1534)\n",
    "a.get_book_info()"
   ]
  },
  {
   "cell_type": "code",
   "execution_count": 63,
   "id": "cd1b0423-00be-467e-8cb6-1ba74def9320",
   "metadata": {},
   "outputs": [
    {
     "name": "stdout",
     "output_type": "stream",
     "text": [
      "Address: 123 Luxury Lane\n",
      "Price: ₹50000000\n",
      "Number of Rooms: 10\n"
     ]
    }
   ],
   "source": [
    "#Create a class House with attributes address and price. Create a derived class Mansion that adds an\n",
    "#attribute number_of_rooms.\n",
    "class House:\n",
    "    def __init__(self, address, price):\n",
    "        self.address = address\n",
    "        self.price = price\n",
    "\n",
    "    def show_details(self):\n",
    "        print(f\"Address: {self.address}\")\n",
    "        print(f\"Price: ₹{self.price}\")\n",
    "\n",
    "class Mansion(House):\n",
    "    def __init__(self, address, price, number_of_rooms):\n",
    "        super().__init__(address, price)\n",
    "        self.number_of_rooms = number_of_rooms\n",
    "\n",
    "    def show_details(self):\n",
    "        super().show_details()\n",
    "        print(f\"Number of Rooms: {self.number_of_rooms}\")\n",
    "\n",
    "m1 = Mansion(\"123 Luxury Lane\", 50000000, 10)\n",
    "m1.show_details()"
   ]
  },
  {
   "cell_type": "code",
   "execution_count": null,
   "id": "0b126203-c48e-403b-a9e4-63c3271c8f27",
   "metadata": {},
   "outputs": [],
   "source": []
  }
 ],
 "metadata": {
  "kernelspec": {
   "display_name": "Python 3 (ipykernel)",
   "language": "python",
   "name": "python3"
  },
  "language_info": {
   "codemirror_mode": {
    "name": "ipython",
    "version": 3
   },
   "file_extension": ".py",
   "mimetype": "text/x-python",
   "name": "python",
   "nbconvert_exporter": "python",
   "pygments_lexer": "ipython3",
   "version": "3.12.7"
  }
 },
 "nbformat": 4,
 "nbformat_minor": 5
}
